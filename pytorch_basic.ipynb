{
  "nbformat": 4,
  "nbformat_minor": 0,
  "metadata": {
    "colab": {
      "name": "pytorch_basic.ipynb",
      "provenance": [],
      "authorship_tag": "ABX9TyNcsh7CightADvDP6kLn/p1",
      "include_colab_link": true
    },
    "kernelspec": {
      "name": "python3",
      "display_name": "Python 3"
    },
    "language_info": {
      "name": "python"
    },
    "accelerator": "GPU",
    "gpuClass": "standard"
  },
  "cells": [
    {
      "cell_type": "markdown",
      "metadata": {
        "id": "view-in-github",
        "colab_type": "text"
      },
      "source": [
        "<a href=\"https://colab.research.google.com/github/arnavjune2/pytorch/blob/main/pytorch_basic.ipynb\" target=\"_parent\"><img src=\"https://colab.research.google.com/assets/colab-badge.svg\" alt=\"Open In Colab\"/></a>"
      ]
    },
    {
      "cell_type": "code",
      "execution_count": null,
      "metadata": {
        "colab": {
          "base_uri": "https://localhost:8080/"
        },
        "id": "0_dnHPKWXZVG",
        "outputId": "603d2a4f-50eb-4564-b894-db1c9441b1b5"
      },
      "outputs": [
        {
          "output_type": "stream",
          "name": "stdout",
          "text": [
            "initailise\n"
          ]
        }
      ],
      "source": [
        "print(\"initailise\")"
      ]
    },
    {
      "cell_type": "code",
      "source": [
        "!nvcc --version"
      ],
      "metadata": {
        "colab": {
          "base_uri": "https://localhost:8080/"
        },
        "id": "U-O3HpVjXeZu",
        "outputId": "678114a9-a313-40ab-8cec-584437ac00ae"
      },
      "execution_count": null,
      "outputs": [
        {
          "output_type": "stream",
          "name": "stdout",
          "text": [
            "nvcc: NVIDIA (R) Cuda compiler driver\n",
            "Copyright (c) 2005-2020 NVIDIA Corporation\n",
            "Built on Mon_Oct_12_20:09:46_PDT_2020\n",
            "Cuda compilation tools, release 11.1, V11.1.105\n",
            "Build cuda_11.1.TC455_06.29190527_0\n"
          ]
        }
      ]
    },
    {
      "cell_type": "code",
      "source": [
        "import torch"
      ],
      "metadata": {
        "id": "YGg5qxQEY27a"
      },
      "execution_count": null,
      "outputs": []
    },
    {
      "cell_type": "code",
      "source": [
        "#tenosrs\n",
        "t1 = torch.tensor(4.)"
      ],
      "metadata": {
        "id": "AX-SJJGdZD1f"
      },
      "execution_count": null,
      "outputs": []
    },
    {
      "cell_type": "code",
      "source": [
        "type(t1)"
      ],
      "metadata": {
        "colab": {
          "base_uri": "https://localhost:8080/"
        },
        "id": "S4TAVzY3ZRL3",
        "outputId": "3d282003-0ecd-4ecc-80ce-1fb2a3cb5d55"
      },
      "execution_count": null,
      "outputs": [
        {
          "output_type": "execute_result",
          "data": {
            "text/plain": [
              "torch.Tensor"
            ]
          },
          "metadata": {},
          "execution_count": 4
        }
      ]
    },
    {
      "cell_type": "code",
      "source": [
        "#vectors\n",
        "a = [1.,2.,3.,8.,9.]\n",
        "a = torch.tensor(a)\n",
        "print(a)\n",
        "type(a)"
      ],
      "metadata": {
        "id": "985hsh2lZS54",
        "colab": {
          "base_uri": "https://localhost:8080/"
        },
        "outputId": "1ec98a86-503a-4d59-c50c-4162dddd3bf7"
      },
      "execution_count": null,
      "outputs": [
        {
          "output_type": "stream",
          "name": "stdout",
          "text": [
            "tensor([1., 2., 3., 8., 9.])\n"
          ]
        },
        {
          "output_type": "execute_result",
          "data": {
            "text/plain": [
              "torch.Tensor"
            ]
          },
          "metadata": {},
          "execution_count": 5
        }
      ]
    },
    {
      "cell_type": "code",
      "source": [
        "a.dtype"
      ],
      "metadata": {
        "colab": {
          "base_uri": "https://localhost:8080/"
        },
        "id": "stAZSgnYCFcg",
        "outputId": "9f687b7f-a845-4c09-cc72-85e7bbdf6361"
      },
      "execution_count": null,
      "outputs": [
        {
          "output_type": "execute_result",
          "data": {
            "text/plain": [
              "torch.float32"
            ]
          },
          "metadata": {},
          "execution_count": 6
        }
      ]
    },
    {
      "cell_type": "code",
      "source": [
        "#metrix \n",
        "t3 = torch.tensor(\n",
        "    [\n",
        "    [4., 5., 9.],\n",
        "    [4., 5., 9.],\n",
        "    [4., 5., 9.],\n",
        "    ],\n",
        "    requires_grad = True\n",
        ")\n",
        "\n",
        "t3"
      ],
      "metadata": {
        "colab": {
          "base_uri": "https://localhost:8080/"
        },
        "id": "9FH64o1RCjlG",
        "outputId": "fd0fef88-972d-417f-99c7-4ee65128d54f"
      },
      "execution_count": null,
      "outputs": [
        {
          "output_type": "execute_result",
          "data": {
            "text/plain": [
              "tensor([[4., 5., 9.],\n",
              "        [4., 5., 9.],\n",
              "        [4., 5., 9.]], requires_grad=True)"
            ]
          },
          "metadata": {},
          "execution_count": 18
        }
      ]
    },
    {
      "cell_type": "code",
      "source": [
        "print(t3)\n",
        "print(t3.shape)"
      ],
      "metadata": {
        "colab": {
          "base_uri": "https://localhost:8080/"
        },
        "id": "w7uE6oiiDTKI",
        "outputId": "6e0a4e1f-3f30-4d18-fc16-c8baf16c137b"
      },
      "execution_count": null,
      "outputs": [
        {
          "output_type": "stream",
          "name": "stdout",
          "text": [
            "tensor([[4., 5., 9.],\n",
            "        [4., 5., 9.],\n",
            "        [4., 5., 9.]], requires_grad=True)\n",
            "torch.Size([3, 3])\n"
          ]
        }
      ]
    },
    {
      "cell_type": "code",
      "source": [
        "t3 = torch.tensor(\n",
        "    [\n",
        "    [4., 5., 9.],\n",
        "    [4., 5., 9.],\n",
        "    [ 5., 9.],\n",
        "    ],\n",
        "    requires_grad = True\n",
        ")\n",
        "\n",
        "t3"
      ],
      "metadata": {
        "colab": {
          "base_uri": "https://localhost:8080/",
          "height": 235
        },
        "id": "IuwQT1GoVrRf",
        "outputId": "073714eb-81f0-4e92-8129-3a22e41130fa"
      },
      "execution_count": null,
      "outputs": [
        {
          "output_type": "error",
          "ename": "ValueError",
          "evalue": "ignored",
          "traceback": [
            "\u001b[0;31m---------------------------------------------------------------------------\u001b[0m",
            "\u001b[0;31mValueError\u001b[0m                                Traceback (most recent call last)",
            "\u001b[0;32m<ipython-input-10-f9d2eb558950>\u001b[0m in \u001b[0;36m<module>\u001b[0;34m()\u001b[0m\n\u001b[1;32m      5\u001b[0m     \u001b[0;34m[\u001b[0m \u001b[0;36m5.\u001b[0m\u001b[0;34m,\u001b[0m \u001b[0;36m9.\u001b[0m\u001b[0;34m]\u001b[0m\u001b[0;34m,\u001b[0m\u001b[0;34m\u001b[0m\u001b[0;34m\u001b[0m\u001b[0m\n\u001b[1;32m      6\u001b[0m     ],\n\u001b[0;32m----> 7\u001b[0;31m     \u001b[0mrequires_grad\u001b[0m \u001b[0;34m=\u001b[0m \u001b[0;32mTrue\u001b[0m\u001b[0;34m\u001b[0m\u001b[0;34m\u001b[0m\u001b[0m\n\u001b[0m\u001b[1;32m      8\u001b[0m )\n\u001b[1;32m      9\u001b[0m \u001b[0;34m\u001b[0m\u001b[0m\n",
            "\u001b[0;31mValueError\u001b[0m: expected sequence of length 3 at dim 1 (got 2)"
          ]
        }
      ]
    },
    {
      "cell_type": "code",
      "source": [
        "#tenosr operations\n",
        "x = torch.tensor(3.)\n",
        "w = torch.tensor(4., requires_grad= True)\n",
        "b = torch.tensor(5., requires_grad= True)\n",
        "\n",
        "x , w, b"
      ],
      "metadata": {
        "colab": {
          "base_uri": "https://localhost:8080/"
        },
        "id": "b7hqJwSAVvqT",
        "outputId": "bcfc9b97-b76c-4bec-8bcc-3e925d7e46d9"
      },
      "execution_count": null,
      "outputs": [
        {
          "output_type": "execute_result",
          "data": {
            "text/plain": [
              "(tensor(3.), tensor(4., requires_grad=True), tensor(5., requires_grad=True))"
            ]
          },
          "metadata": {},
          "execution_count": 3
        }
      ]
    },
    {
      "cell_type": "code",
      "source": [
        "# arithmetic\n",
        "y = w*x + b\n",
        "y"
      ],
      "metadata": {
        "colab": {
          "base_uri": "https://localhost:8080/"
        },
        "id": "0hqOBknqddS2",
        "outputId": "f7094574-02f4-4ea9-85c6-4c8632f2232a"
      },
      "execution_count": null,
      "outputs": [
        {
          "output_type": "execute_result",
          "data": {
            "text/plain": [
              "tensor(17., grad_fn=<AddBackward0>)"
            ]
          },
          "metadata": {},
          "execution_count": 10
        }
      ]
    },
    {
      "cell_type": "code",
      "source": [
        "y.backward() #backpropogation"
      ],
      "metadata": {
        "id": "_fC0DNq3eNC2"
      },
      "execution_count": null,
      "outputs": []
    },
    {
      "cell_type": "code",
      "source": [
        "print(\"dy/dx: \" , x.grad )\n",
        "print(\"dy/dw: \" , w.grad )\n",
        "print(\"dy/db: \" , b.grad )"
      ],
      "metadata": {
        "colab": {
          "base_uri": "https://localhost:8080/"
        },
        "id": "iIB9rv9VgSq4",
        "outputId": "467b3912-72f1-4722-b3ba-90dac1916927"
      },
      "execution_count": null,
      "outputs": [
        {
          "output_type": "stream",
          "name": "stdout",
          "text": [
            "dy/dx:  None\n",
            "dy/dw:  tensor(6.)\n",
            "dy/db:  tensor(3.)\n"
          ]
        }
      ]
    },
    {
      "cell_type": "code",
      "source": [
        "#tensor function\n",
        "\n",
        "t6 = torch.full((3,3), 9)\n",
        "t6"
      ],
      "metadata": {
        "colab": {
          "base_uri": "https://localhost:8080/"
        },
        "id": "34Sasht3ghPO",
        "outputId": "b01717c8-d06c-4f4c-b8e7-bebffdc51f46"
      },
      "execution_count": null,
      "outputs": [
        {
          "output_type": "execute_result",
          "data": {
            "text/plain": [
              "tensor([[9, 9, 9],\n",
              "        [9, 9, 9],\n",
              "        [9, 9, 9]])"
            ]
          },
          "metadata": {},
          "execution_count": 21
        }
      ]
    },
    {
      "cell_type": "code",
      "source": [
        "t7 = torch.cat((t3, t6))\n",
        "t7"
      ],
      "metadata": {
        "colab": {
          "base_uri": "https://localhost:8080/"
        },
        "id": "FRD4ezikjgPw",
        "outputId": "4195fa0f-31a3-4c8c-9533-472a252f13f6"
      },
      "execution_count": null,
      "outputs": [
        {
          "output_type": "execute_result",
          "data": {
            "text/plain": [
              "tensor([[4., 5., 9.],\n",
              "        [4., 5., 9.],\n",
              "        [4., 5., 9.],\n",
              "        [9., 9., 9.],\n",
              "        [9., 9., 9.],\n",
              "        [9., 9., 9.]], grad_fn=<CatBackward0>)"
            ]
          },
          "metadata": {},
          "execution_count": 22
        }
      ]
    },
    {
      "cell_type": "code",
      "source": [
        "# Compute the sin of each element\n",
        "t8 = torch.sin(t7)\n",
        "t8"
      ],
      "metadata": {
        "colab": {
          "base_uri": "https://localhost:8080/"
        },
        "id": "qX-YpPY2kK-O",
        "outputId": "53a8a142-ff39-4962-8168-ea72bd1a0605"
      },
      "execution_count": null,
      "outputs": [
        {
          "output_type": "execute_result",
          "data": {
            "text/plain": [
              "tensor([[-0.7568, -0.9589,  0.4121],\n",
              "        [-0.7568, -0.9589,  0.4121],\n",
              "        [-0.7568, -0.9589,  0.4121],\n",
              "        [ 0.4121,  0.4121,  0.4121],\n",
              "        [ 0.4121,  0.4121,  0.4121],\n",
              "        [ 0.4121,  0.4121,  0.4121]], grad_fn=<SinBackward0>)"
            ]
          },
          "metadata": {},
          "execution_count": 23
        }
      ]
    },
    {
      "cell_type": "code",
      "source": [
        "t9 = t8.reshape(3,2,-1)\n",
        "t9"
      ],
      "metadata": {
        "colab": {
          "base_uri": "https://localhost:8080/"
        },
        "id": "-Z7_DZDKkbsJ",
        "outputId": "e45b16ad-0461-4f3b-fb1f-9e0a7c566ff3"
      },
      "execution_count": null,
      "outputs": [
        {
          "output_type": "execute_result",
          "data": {
            "text/plain": [
              "tensor([[[-0.7568, -0.9589,  0.4121],\n",
              "         [-0.7568, -0.9589,  0.4121]],\n",
              "\n",
              "        [[-0.7568, -0.9589,  0.4121],\n",
              "         [ 0.4121,  0.4121,  0.4121]],\n",
              "\n",
              "        [[ 0.4121,  0.4121,  0.4121],\n",
              "         [ 0.4121,  0.4121,  0.4121]]], grad_fn=<ReshapeAliasBackward0>)"
            ]
          },
          "metadata": {},
          "execution_count": 25
        }
      ]
    },
    {
      "cell_type": "markdown",
      "source": [
        "The interoperability between PyTorch and Numpy is essential because most datasets you'll work with will likely be read and preprocessed as Numpy arrays.\n",
        "\n",
        "You might wonder why we need a library like PyTorch at all since Numpy already provides data structures and utilities for working with multi-dimensional numeric data. There are two main reasons:\n",
        "\n",
        "Autograd: The ability to automatically compute gradients for tensor operations is essential for training deep learning models.\n",
        "GPU support: While working with massive datasets and large models, PyTorch tensor operations can be performed efficiently using a Graphics Processing Unit (GPU). Computations that might typically take hours can be completed within minutes using GPUs.\n",
        "We'll leverage both these features of PyTorch extensively in this tutorial series."
      ],
      "metadata": {
        "id": "aLvsyOg7k3cj"
      }
    },
    {
      "cell_type": "code",
      "source": [
        "import numpy as np\n",
        "\n",
        "x  = np.array([[1,2], [3,4.]])"
      ],
      "metadata": {
        "id": "Y6PhiJZJk4J2"
      },
      "execution_count": null,
      "outputs": []
    },
    {
      "cell_type": "code",
      "source": [
        "y = torch.from_numpy(x)\n",
        "y"
      ],
      "metadata": {
        "colab": {
          "base_uri": "https://localhost:8080/"
        },
        "id": "InbZJDsJlCWq",
        "outputId": "61d3bce2-66cf-49d5-c4d5-2ce99318ae27"
      },
      "execution_count": null,
      "outputs": [
        {
          "output_type": "execute_result",
          "data": {
            "text/plain": [
              "tensor([[1., 2.],\n",
              "        [3., 4.]], dtype=torch.float64)"
            ]
          },
          "metadata": {},
          "execution_count": 27
        }
      ]
    },
    {
      "cell_type": "code",
      "source": [
        ""
      ],
      "metadata": {
        "id": "6f83ojj1lJSB"
      },
      "execution_count": null,
      "outputs": []
    }
  ]
}