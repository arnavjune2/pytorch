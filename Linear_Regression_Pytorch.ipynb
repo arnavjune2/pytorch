{
  "nbformat": 4,
  "nbformat_minor": 0,
  "metadata": {
    "colab": {
      "name": "Linear Regression Pytorch.ipynb",
      "provenance": [],
      "authorship_tag": "ABX9TyNHZhRMUIdT/GNyyq1m5M44",
      "include_colab_link": true
    },
    "kernelspec": {
      "name": "python3",
      "display_name": "Python 3"
    },
    "language_info": {
      "name": "python"
    },
    "accelerator": "GPU",
    "gpuClass": "standard"
  },
  "cells": [
    {
      "cell_type": "markdown",
      "metadata": {
        "id": "view-in-github",
        "colab_type": "text"
      },
      "source": [
        "<a href=\"https://colab.research.google.com/github/arnavjune2/pytorch/blob/main/Linear_Regression_Pytorch.ipynb\" target=\"_parent\"><img src=\"https://colab.research.google.com/assets/colab-badge.svg\" alt=\"Open In Colab\"/></a>"
      ]
    },
    {
      "cell_type": "code",
      "source": [
        "import numpy as np\n",
        "import torch"
      ],
      "metadata": {
        "id": "qi-6QSsZq55r"
      },
      "execution_count": 10,
      "outputs": []
    },
    {
      "cell_type": "code",
      "execution_count": 11,
      "metadata": {
        "id": "onRrSgdDMwA4"
      },
      "outputs": [],
      "source": [
        "#Input_data\n",
        "input = np.array([[32,55,77],\n",
        "                  [31,75,57],\n",
        "                  [52,55,77],\n",
        "                  [22,100,87],\n",
        "                  [62,80,77],\n",
        "                  \n",
        "                  ], dtype='float32')"
      ]
    },
    {
      "cell_type": "code",
      "source": [
        "#target(say we have two target)\n",
        "targets = np.array([[32,66],\n",
        "                    [52,76],\n",
        "                    [102,155],\n",
        "                    [32,26],\n",
        "                    [99,100],\n",
        "                    ], dtype='float32')"
      ],
      "metadata": {
        "id": "K01N7yKprBbK"
      },
      "execution_count": 12,
      "outputs": []
    },
    {
      "cell_type": "code",
      "source": [
        "targets"
      ],
      "metadata": {
        "colab": {
          "base_uri": "https://localhost:8080/"
        },
        "id": "I-rsaIf9rF8w",
        "outputId": "15e5fec0-4d79-4aa9-b7dd-d849342179b2"
      },
      "execution_count": 13,
      "outputs": [
        {
          "output_type": "execute_result",
          "data": {
            "text/plain": [
              "array([[ 32.,  66.],\n",
              "       [ 52.,  76.],\n",
              "       [102., 155.],\n",
              "       [ 32.,  26.],\n",
              "       [ 99., 100.]], dtype=float32)"
            ]
          },
          "metadata": {},
          "execution_count": 13
        }
      ]
    },
    {
      "cell_type": "code",
      "source": [
        "if torch.cuda.is_available():\n",
        "    device = torch.device(\"cuda:0\")\n",
        "    print(\"running on the GPU\")\n",
        "else:\n",
        "    device = torch.device(\"cpu\")\n",
        "    print(\"running on the CPU\")"
      ],
      "metadata": {
        "colab": {
          "base_uri": "https://localhost:8080/"
        },
        "id": "MNeSh7E8rNmI",
        "outputId": "c8ef3893-be96-48f8-e527-baf31ad50e73"
      },
      "execution_count": 14,
      "outputs": [
        {
          "output_type": "stream",
          "name": "stdout",
          "text": [
            "running on the GPU\n"
          ]
        }
      ]
    },
    {
      "cell_type": "code",
      "source": [
        "torch.cuda.is_available()"
      ],
      "metadata": {
        "colab": {
          "base_uri": "https://localhost:8080/"
        },
        "id": "wxoDxJaMrdAg",
        "outputId": "4b990101-110e-4271-e51d-2c97f2b03026"
      },
      "execution_count": 15,
      "outputs": [
        {
          "output_type": "execute_result",
          "data": {
            "text/plain": [
              "True"
            ]
          },
          "metadata": {},
          "execution_count": 15
        }
      ]
    },
    {
      "cell_type": "code",
      "source": [
        "#to run on gpu we have to convert it into tensors\n",
        "inputs = torch.from_numpy(input)\n",
        "targets = torch.from_numpy(targets)"
      ],
      "metadata": {
        "id": "-lRKaMwvrvlm"
      },
      "execution_count": 16,
      "outputs": []
    },
    {
      "cell_type": "code",
      "source": [
        "#initialise weights and biases\n",
        "w = torch.randn(2,3, requires_grad=True)      #two outputs and 3 inputs\n",
        "b = torch.randn(2, requires_grad=True) \n",
        "\n",
        "print(w)\n",
        "print(b)"
      ],
      "metadata": {
        "colab": {
          "base_uri": "https://localhost:8080/"
        },
        "id": "WvWckij-spM2",
        "outputId": "fc5dfd81-9d62-4848-8b02-00dfdcf4ed09"
      },
      "execution_count": 17,
      "outputs": [
        {
          "output_type": "stream",
          "name": "stdout",
          "text": [
            "tensor([[ 0.2287, -0.6534, -0.3719],\n",
            "        [ 0.4003,  0.4277,  1.0429]], requires_grad=True)\n",
            "tensor([ 1.0453, -0.6592], requires_grad=True)\n"
          ]
        }
      ]
    },
    {
      "cell_type": "code",
      "source": [
        "def model(x):\n",
        "  return x @ w.t() + b  #hypothesis  "
      ],
      "metadata": {
        "id": "pvYsqZ7XsqvW"
      },
      "execution_count": 18,
      "outputs": []
    },
    {
      "cell_type": "code",
      "source": [
        "preds = model(inputs)\n",
        "print(preds)"
      ],
      "metadata": {
        "colab": {
          "base_uri": "https://localhost:8080/"
        },
        "id": "EVz0pq7x1-Oc",
        "outputId": "bba6c77f-23bc-4e1b-e86e-cf3611ad0edd"
      },
      "execution_count": 19,
      "outputs": [
        {
          "output_type": "stream",
          "name": "stdout",
          "text": [
            "tensor([[-56.2122, 115.9802],\n",
            "        [-62.0704, 103.2750],\n",
            "        [-51.6386, 123.9856],\n",
            "        [-91.6213, 141.6536],\n",
            "        [-65.6868, 138.6809]], grad_fn=<AddBackward0>)\n"
          ]
        }
      ]
    },
    {
      "cell_type": "code",
      "source": [
        "#loss\n",
        "def MSE(preds, target):\n",
        "  diff = preds - targets\n",
        "  return torch.sum(diff * diff)/ diff.numel()\n"
      ],
      "metadata": {
        "id": "45fB-duc2I5x"
      },
      "execution_count": 21,
      "outputs": []
    },
    {
      "cell_type": "code",
      "source": [
        "#compute loss\n",
        "\n",
        "loss = MSE(preds, targets)\n",
        "print(loss)"
      ],
      "metadata": {
        "colab": {
          "base_uri": "https://localhost:8080/"
        },
        "id": "uCcrkGan2wbJ",
        "outputId": "88c9ad2b-2447-48cc-9870-c08d86499b20"
      },
      "execution_count": 23,
      "outputs": [
        {
          "output_type": "stream",
          "name": "stdout",
          "text": [
            "tensor(10587.8047, grad_fn=<DivBackward0>)\n"
          ]
        }
      ]
    },
    {
      "cell_type": "code",
      "source": [
        "#compute gradients\n",
        "\n",
        "loss.backward()"
      ],
      "metadata": {
        "id": "XBcmPnsZ2-P9"
      },
      "execution_count": 24,
      "outputs": []
    },
    {
      "cell_type": "code",
      "source": [
        "print(w)\n",
        "print(w.grad)"
      ],
      "metadata": {
        "colab": {
          "base_uri": "https://localhost:8080/"
        },
        "id": "6VGURlvi3UPH",
        "outputId": "ae33cc89-24c5-48af-8f80-e9e64c181dc2"
      },
      "execution_count": 25,
      "outputs": [
        {
          "output_type": "stream",
          "name": "stdout",
          "text": [
            "tensor([[ 0.2287, -0.6534, -0.3719],\n",
            "        [ 0.4003,  0.4277,  1.0429]], requires_grad=True)\n",
            "tensor([[-5455.6870, -9478.8311, -9712.0928],\n",
            "        [ 1154.9482,  3549.7161,  3211.0679]])\n"
          ]
        }
      ]
    },
    {
      "cell_type": "code",
      "source": [
        "with torch.no_grad():\n",
        "  n = 1e-5\n",
        "  w -= w.grad * n\n",
        "  b -= b.grad * n"
      ],
      "metadata": {
        "id": "u0_FL_PJ3XXV"
      },
      "execution_count": 26,
      "outputs": []
    },
    {
      "cell_type": "code",
      "source": [
        "print(w)"
      ],
      "metadata": {
        "colab": {
          "base_uri": "https://localhost:8080/"
        },
        "id": "JhP-_vHo7IFd",
        "outputId": "acae28a4-f3e8-4494-f1ee-319ac76304f1"
      },
      "execution_count": 28,
      "outputs": [
        {
          "output_type": "stream",
          "name": "stdout",
          "text": [
            "tensor([[ 0.2832, -0.5586, -0.2748],\n",
            "        [ 0.3887,  0.3922,  1.0108]], requires_grad=True)\n"
          ]
        }
      ]
    },
    {
      "cell_type": "code",
      "source": [
        "preds = model(inputs)\n",
        "print(f\"loss is {MSE(preds, targets)}\")"
      ],
      "metadata": {
        "colab": {
          "base_uri": "https://localhost:8080/"
        },
        "id": "oMw9Ziu17JNb",
        "outputId": "bf951594-11f7-4912-9491-68ab92837942"
      },
      "execution_count": 29,
      "outputs": [
        {
          "output_type": "stream",
          "name": "stdout",
          "text": [
            "loss is 8357.1015625\n"
          ]
        }
      ]
    },
    {
      "cell_type": "code",
      "source": [
        "#training\n",
        "epochs = 100\n",
        "n = 1e-5\n",
        "for i in range(epochs):\n",
        "  preds = model(inputs)\n",
        "  loss = MSE(preds, targets)\n",
        "  loss.backward()\n",
        "  with torch.no_grad():\n",
        "    w -= w.grad * n\n",
        "    b -= b.grad * n\n",
        "    w.grad.zero_()       #clearing the gradients\n",
        "    b.grad.zero_()       #clearing the gradients\n",
        "  print(f\"epoch: {i}, loss = {loss}\")"
      ],
      "metadata": {
        "colab": {
          "base_uri": "https://localhost:8080/"
        },
        "id": "qKGqNw0z__VV",
        "outputId": "54abba96-6c70-4fd8-b24e-b56465bafe8e"
      },
      "execution_count": 40,
      "outputs": [
        {
          "output_type": "stream",
          "name": "stdout",
          "text": [
            "epoch: 0, loss = 318.5791931152344\n",
            "epoch: 1, loss = 318.57916259765625\n",
            "epoch: 2, loss = 318.5791320800781\n",
            "epoch: 3, loss = 318.5791320800781\n",
            "epoch: 4, loss = 318.57916259765625\n",
            "epoch: 5, loss = 318.5791320800781\n",
            "epoch: 6, loss = 318.57904052734375\n",
            "epoch: 7, loss = 318.57904052734375\n",
            "epoch: 8, loss = 318.5790710449219\n",
            "epoch: 9, loss = 318.57891845703125\n",
            "epoch: 10, loss = 318.5789794921875\n",
            "epoch: 11, loss = 318.5789489746094\n",
            "epoch: 12, loss = 318.57891845703125\n",
            "epoch: 13, loss = 318.57891845703125\n",
            "epoch: 14, loss = 318.578857421875\n",
            "epoch: 15, loss = 318.57891845703125\n",
            "epoch: 16, loss = 318.5789489746094\n",
            "epoch: 17, loss = 318.5788269042969\n",
            "epoch: 18, loss = 318.57879638671875\n",
            "epoch: 19, loss = 318.57879638671875\n",
            "epoch: 20, loss = 318.5787658691406\n",
            "epoch: 21, loss = 318.5787658691406\n",
            "epoch: 22, loss = 318.5787353515625\n",
            "epoch: 23, loss = 318.5787658691406\n",
            "epoch: 24, loss = 318.57867431640625\n",
            "epoch: 25, loss = 318.5785827636719\n",
            "epoch: 26, loss = 318.5785827636719\n",
            "epoch: 27, loss = 318.5786437988281\n",
            "epoch: 28, loss = 318.57861328125\n",
            "epoch: 29, loss = 318.57861328125\n",
            "epoch: 30, loss = 318.5786437988281\n",
            "epoch: 31, loss = 318.5785827636719\n",
            "epoch: 32, loss = 318.5785217285156\n",
            "epoch: 33, loss = 318.57855224609375\n",
            "epoch: 34, loss = 318.5785217285156\n",
            "epoch: 35, loss = 318.5784912109375\n",
            "epoch: 36, loss = 318.57855224609375\n",
            "epoch: 37, loss = 318.57843017578125\n",
            "epoch: 38, loss = 318.57843017578125\n",
            "epoch: 39, loss = 318.5782165527344\n",
            "epoch: 40, loss = 318.5782470703125\n",
            "epoch: 41, loss = 318.5782165527344\n",
            "epoch: 42, loss = 318.57830810546875\n",
            "epoch: 43, loss = 318.5782470703125\n",
            "epoch: 44, loss = 318.5782775878906\n",
            "epoch: 45, loss = 318.57818603515625\n",
            "epoch: 46, loss = 318.57818603515625\n",
            "epoch: 47, loss = 318.57818603515625\n",
            "epoch: 48, loss = 318.57818603515625\n",
            "epoch: 49, loss = 318.5780944824219\n",
            "epoch: 50, loss = 318.5781555175781\n",
            "epoch: 51, loss = 318.578125\n",
            "epoch: 52, loss = 318.578125\n",
            "epoch: 53, loss = 318.5780334472656\n",
            "epoch: 54, loss = 318.5780334472656\n",
            "epoch: 55, loss = 318.57794189453125\n",
            "epoch: 56, loss = 318.57794189453125\n",
            "epoch: 57, loss = 318.5780029296875\n",
            "epoch: 58, loss = 318.57794189453125\n",
            "epoch: 59, loss = 318.5778503417969\n",
            "epoch: 60, loss = 318.5778503417969\n",
            "epoch: 61, loss = 318.57781982421875\n",
            "epoch: 62, loss = 318.5778503417969\n",
            "epoch: 63, loss = 318.57781982421875\n",
            "epoch: 64, loss = 318.57769775390625\n",
            "epoch: 65, loss = 318.5777282714844\n",
            "epoch: 66, loss = 318.57769775390625\n",
            "epoch: 67, loss = 318.57763671875\n",
            "epoch: 68, loss = 318.5776672363281\n",
            "epoch: 69, loss = 318.5776062011719\n",
            "epoch: 70, loss = 318.57757568359375\n",
            "epoch: 71, loss = 318.57757568359375\n",
            "epoch: 72, loss = 318.5776062011719\n",
            "epoch: 73, loss = 318.5775146484375\n",
            "epoch: 74, loss = 318.57757568359375\n",
            "epoch: 75, loss = 318.57757568359375\n",
            "epoch: 76, loss = 318.5775146484375\n",
            "epoch: 77, loss = 318.57745361328125\n",
            "epoch: 78, loss = 318.5775146484375\n",
            "epoch: 79, loss = 318.5774841308594\n",
            "epoch: 80, loss = 318.57745361328125\n",
            "epoch: 81, loss = 318.5774230957031\n",
            "epoch: 82, loss = 318.57733154296875\n",
            "epoch: 83, loss = 318.5774230957031\n",
            "epoch: 84, loss = 318.57733154296875\n",
            "epoch: 85, loss = 318.57720947265625\n",
            "epoch: 86, loss = 318.57720947265625\n",
            "epoch: 87, loss = 318.57720947265625\n",
            "epoch: 88, loss = 318.5770568847656\n",
            "epoch: 89, loss = 318.5770568847656\n",
            "epoch: 90, loss = 318.57708740234375\n",
            "epoch: 91, loss = 318.57708740234375\n",
            "epoch: 92, loss = 318.5771484375\n",
            "epoch: 93, loss = 318.5769958496094\n",
            "epoch: 94, loss = 318.5770568847656\n",
            "epoch: 95, loss = 318.5769958496094\n",
            "epoch: 96, loss = 318.5770568847656\n",
            "epoch: 97, loss = 318.57696533203125\n",
            "epoch: 98, loss = 318.5769958496094\n",
            "epoch: 99, loss = 318.57684326171875\n"
          ]
        }
      ]
    },
    {
      "cell_type": "code",
      "source": [
        "preds = model(inputs)\n",
        "preds"
      ],
      "metadata": {
        "colab": {
          "base_uri": "https://localhost:8080/"
        },
        "id": "5gbRUIiKA0ti",
        "outputId": "16835bb2-5b32-45cd-881f-421ff9a2b0d5"
      },
      "execution_count": 41,
      "outputs": [
        {
          "output_type": "execute_result",
          "data": {
            "text/plain": [
              "tensor([[ 46.0194,  80.9296],\n",
              "        [ 51.5580,  49.7411],\n",
              "        [ 85.6946, 125.4122],\n",
              "        [ 26.7783,  30.9768],\n",
              "        [107.5131, 128.4745]], grad_fn=<AddBackward0>)"
            ]
          },
          "metadata": {},
          "execution_count": 41
        }
      ]
    },
    {
      "cell_type": "code",
      "source": [
        "targets"
      ],
      "metadata": {
        "colab": {
          "base_uri": "https://localhost:8080/"
        },
        "id": "CU_kjI5WBjkI",
        "outputId": "462c54e3-f7ad-4458-f40b-ca59e2e76346"
      },
      "execution_count": 42,
      "outputs": [
        {
          "output_type": "execute_result",
          "data": {
            "text/plain": [
              "tensor([[ 32.,  66.],\n",
              "        [ 52.,  76.],\n",
              "        [102., 155.],\n",
              "        [ 32.,  26.],\n",
              "        [ 99., 100.]])"
            ]
          },
          "metadata": {},
          "execution_count": 42
        }
      ]
    },
    {
      "cell_type": "markdown",
      "source": [
        "#**using torch built in functions**"
      ],
      "metadata": {
        "id": "MopyPlM9GhVX"
      }
    },
    {
      "cell_type": "code",
      "source": [
        "import torch.nn as nn"
      ],
      "metadata": {
        "id": "Qg9Uyc55Bk0i"
      },
      "execution_count": 43,
      "outputs": []
    },
    {
      "cell_type": "code",
      "source": [
        "# Input (temp, rainfall, humidity)\n",
        "inputs = np.array([[73, 67, 43], \n",
        "                   [91, 88, 64], \n",
        "                   [87, 134, 58], \n",
        "                   [102, 43, 37], \n",
        "                   [69, 96, 70], \n",
        "                   [74, 66, 43], \n",
        "                   [91, 87, 65], \n",
        "                   [88, 134, 59], \n",
        "                   [101, 44, 37], \n",
        "                   [68, 96, 71], \n",
        "                   [73, 66, 44], \n",
        "                   [92, 87, 64], \n",
        "                   [87, 135, 57], \n",
        "                   [103, 43, 36], \n",
        "                   [68, 97, 70]], \n",
        "                  dtype='float32')\n",
        "\n",
        "\n",
        "targets = np.array([[56, 70], \n",
        "                    [81, 101], \n",
        "                    [119, 133], \n",
        "                    [22, 37], \n",
        "                    [103, 119],\n",
        "                    [57, 69], \n",
        "                    [80, 102], \n",
        "                    [118, 132], \n",
        "                    [21, 38], \n",
        "                    [104, 118], \n",
        "                    [57, 69], \n",
        "                    [82, 100], \n",
        "                    [118, 134], \n",
        "                    [20, 38], \n",
        "                    [102, 120]], \n",
        "                   dtype='float32')\n",
        "\n",
        "inputs = torch.from_numpy(inputs)\n",
        "targets = torch.from_numpy(targets)"
      ],
      "metadata": {
        "id": "7sXOEFIeG5ai"
      },
      "execution_count": 44,
      "outputs": []
    },
    {
      "cell_type": "code",
      "source": [
        "#dataloader which will help to create batch\n",
        "\n",
        "from torch.utils.data import TensorDataset\n",
        "\n",
        "train_ds = TensorDataset(inputs, targets)"
      ],
      "metadata": {
        "id": "2K6smbzJHAQu"
      },
      "execution_count": 46,
      "outputs": []
    },
    {
      "cell_type": "code",
      "source": [
        "train_ds[0:3]"
      ],
      "metadata": {
        "colab": {
          "base_uri": "https://localhost:8080/"
        },
        "id": "rJkqhKjrHaux",
        "outputId": "a349cd6c-ced6-4b29-dbe1-ee8d0e67603d"
      },
      "execution_count": 48,
      "outputs": [
        {
          "output_type": "execute_result",
          "data": {
            "text/plain": [
              "(tensor([[ 73.,  67.,  43.],\n",
              "         [ 91.,  88.,  64.],\n",
              "         [ 87., 134.,  58.]]), tensor([[ 56.,  70.],\n",
              "         [ 81., 101.],\n",
              "         [119., 133.]]))"
            ]
          },
          "metadata": {},
          "execution_count": 48
        }
      ]
    },
    {
      "cell_type": "code",
      "source": [
        "from torch.utils.data import DataLoader\n",
        "batch_size =5\n",
        "train_Data = DataLoader(train_ds, batch_size, shuffle=True)"
      ],
      "metadata": {
        "id": "g3vk480dHmr8"
      },
      "execution_count": 49,
      "outputs": []
    },
    {
      "cell_type": "code",
      "source": [
        "for xb, yb in train_Data:\n",
        "  print(f\"inputs:  {xb}\")\n",
        "  print(f\"target:  {yb}\")"
      ],
      "metadata": {
        "colab": {
          "base_uri": "https://localhost:8080/"
        },
        "id": "73FeY95LIOXW",
        "outputId": "58546e42-dfdd-4630-fda6-e8532401f8d7"
      },
      "execution_count": 53,
      "outputs": [
        {
          "output_type": "stream",
          "name": "stdout",
          "text": [
            "inputs:  tensor([[ 91.,  87.,  65.],\n",
            "        [ 87., 135.,  57.],\n",
            "        [ 68.,  97.,  70.],\n",
            "        [ 73.,  67.,  43.],\n",
            "        [ 73.,  66.,  44.]])\n",
            "target:  tensor([[ 80., 102.],\n",
            "        [118., 134.],\n",
            "        [102., 120.],\n",
            "        [ 56.,  70.],\n",
            "        [ 57.,  69.]])\n",
            "inputs:  tensor([[ 88., 134.,  59.],\n",
            "        [ 69.,  96.,  70.],\n",
            "        [ 68.,  96.,  71.],\n",
            "        [103.,  43.,  36.],\n",
            "        [101.,  44.,  37.]])\n",
            "target:  tensor([[118., 132.],\n",
            "        [103., 119.],\n",
            "        [104., 118.],\n",
            "        [ 20.,  38.],\n",
            "        [ 21.,  38.]])\n",
            "inputs:  tensor([[ 87., 134.,  58.],\n",
            "        [102.,  43.,  37.],\n",
            "        [ 91.,  88.,  64.],\n",
            "        [ 92.,  87.,  64.],\n",
            "        [ 74.,  66.,  43.]])\n",
            "target:  tensor([[119., 133.],\n",
            "        [ 22.,  37.],\n",
            "        [ 81., 101.],\n",
            "        [ 82., 100.],\n",
            "        [ 57.,  69.]])\n"
          ]
        }
      ]
    },
    {
      "cell_type": "code",
      "source": [
        "#nn.linear\n",
        "\n",
        "#define model\n",
        "model = nn.Linear(3, 2 )\n",
        "print(model.weight)\n",
        "print(model.bias)"
      ],
      "metadata": {
        "colab": {
          "base_uri": "https://localhost:8080/"
        },
        "id": "A9DYfbruIVth",
        "outputId": "7be0cc2d-bb38-4c7f-fdad-92e0181e1be8"
      },
      "execution_count": 54,
      "outputs": [
        {
          "output_type": "stream",
          "name": "stdout",
          "text": [
            "Parameter containing:\n",
            "tensor([[-0.1704,  0.1514,  0.4047],\n",
            "        [ 0.5497,  0.3281,  0.2475]], requires_grad=True)\n",
            "Parameter containing:\n",
            "tensor([ 0.1517, -0.2486], requires_grad=True)\n"
          ]
        }
      ]
    },
    {
      "cell_type": "code",
      "source": [
        "list(model.parameters())"
      ],
      "metadata": {
        "colab": {
          "base_uri": "https://localhost:8080/"
        },
        "id": "MRETIwH2JW2_",
        "outputId": "e8ff08be-1360-4767-e120-6d4add9c7e0d"
      },
      "execution_count": 55,
      "outputs": [
        {
          "output_type": "execute_result",
          "data": {
            "text/plain": [
              "[Parameter containing:\n",
              " tensor([[-0.1704,  0.1514,  0.4047],\n",
              "         [ 0.5497,  0.3281,  0.2475]], requires_grad=True),\n",
              " Parameter containing:\n",
              " tensor([ 0.1517, -0.2486], requires_grad=True)]"
            ]
          },
          "metadata": {},
          "execution_count": 55
        }
      ]
    },
    {
      "cell_type": "code",
      "source": [
        "preds = model(inputs)"
      ],
      "metadata": {
        "id": "SXz-r3NlKorR"
      },
      "execution_count": 58,
      "outputs": []
    },
    {
      "cell_type": "code",
      "source": [
        "import torch.nn.functional as F\n",
        "loss_fn = F.mse_loss"
      ],
      "metadata": {
        "id": "jh3iOp0QJbw6"
      },
      "execution_count": 56,
      "outputs": []
    },
    {
      "cell_type": "code",
      "source": [
        "loss = loss_fn(preds, targets)"
      ],
      "metadata": {
        "id": "TJdkUaUGKWH1"
      },
      "execution_count": 59,
      "outputs": []
    },
    {
      "cell_type": "code",
      "source": [
        "#optimizers\n",
        "\n",
        "opt = torch.optim.SGD(model.parameters(), lr = 1e-5)"
      ],
      "metadata": {
        "id": "_4Wij4gPKaTG"
      },
      "execution_count": 60,
      "outputs": []
    },
    {
      "cell_type": "code",
      "source": [
        "#training loop\n",
        "def fit(epochs, model, loss_fn, optimizer, train_data):\n",
        "  for epoch in range(epochs):\n",
        "    for xb, yb in train_data:\n",
        "      pred = model(xb)\n",
        "      loss = loss_fn(pred, yb)\n",
        "      loss.backward()\n",
        "      optimizer.step()    #upgrade the weights\n",
        "      optimizer.zero_grad()\n",
        "    if (epoch%10)==0:\n",
        "      print(f\"Epoch {epoch}/{epochs} ------ Loss: {loss}\")\n",
        "    "
      ],
      "metadata": {
        "id": "3i2rn2JiLhGV"
      },
      "execution_count": 73,
      "outputs": []
    },
    {
      "cell_type": "code",
      "source": [
        "fit(100, model, loss_fn, opt, train_Data)"
      ],
      "metadata": {
        "colab": {
          "base_uri": "https://localhost:8080/"
        },
        "id": "ZAt3bqIPLuYC",
        "outputId": "2ace4b87-e159-48f5-e984-451ea9d801cc"
      },
      "execution_count": 74,
      "outputs": [
        {
          "output_type": "stream",
          "name": "stdout",
          "text": [
            "Epoch 0/100 ------ Loss: 23.01542854309082\n",
            "Epoch 10/100 ------ Loss: 16.42523765563965\n",
            "Epoch 20/100 ------ Loss: 10.770572662353516\n",
            "Epoch 30/100 ------ Loss: 18.43337631225586\n",
            "Epoch 40/100 ------ Loss: 6.724353790283203\n",
            "Epoch 50/100 ------ Loss: 9.617185592651367\n",
            "Epoch 60/100 ------ Loss: 7.920056343078613\n",
            "Epoch 70/100 ------ Loss: 9.815200805664062\n",
            "Epoch 80/100 ------ Loss: 7.201103210449219\n",
            "Epoch 90/100 ------ Loss: 11.452249526977539\n"
          ]
        }
      ]
    },
    {
      "cell_type": "code",
      "source": [
        "pred = model(inputs)\n",
        "print(pred)"
      ],
      "metadata": {
        "colab": {
          "base_uri": "https://localhost:8080/"
        },
        "id": "lA__g2Z7OomY",
        "outputId": "333de021-3a57-421c-90ad-f66dc4855fe6"
      },
      "execution_count": 76,
      "outputs": [
        {
          "output_type": "stream",
          "name": "stdout",
          "text": [
            "tensor([[ 57.1015,  70.8652],\n",
            "        [ 81.8418,  98.6405],\n",
            "        [118.3504, 137.1027],\n",
            "        [ 21.5450,  39.9151],\n",
            "        [101.1371, 113.8341],\n",
            "        [ 55.8669,  69.7672],\n",
            "        [ 81.6595,  98.3423],\n",
            "        [118.6265, 137.4999],\n",
            "        [ 22.7796,  41.0132],\n",
            "        [102.1893, 114.6339],\n",
            "        [ 56.9192,  70.5670],\n",
            "        [ 80.6072,  97.5424],\n",
            "        [118.5327, 137.4009],\n",
            "        [ 20.4927,  39.1153],\n",
            "        [102.3717, 114.9321]], grad_fn=<AddmmBackward0>)\n"
          ]
        }
      ]
    },
    {
      "cell_type": "code",
      "source": [
        "targets"
      ],
      "metadata": {
        "colab": {
          "base_uri": "https://localhost:8080/"
        },
        "id": "I8cgdJi8PYYk",
        "outputId": "b7967dcc-84ac-44f2-b6ff-0591998db23a"
      },
      "execution_count": 78,
      "outputs": [
        {
          "output_type": "execute_result",
          "data": {
            "text/plain": [
              "tensor([[ 56.,  70.],\n",
              "        [ 81., 101.],\n",
              "        [119., 133.],\n",
              "        [ 22.,  37.],\n",
              "        [103., 119.],\n",
              "        [ 57.,  69.],\n",
              "        [ 80., 102.],\n",
              "        [118., 132.],\n",
              "        [ 21.,  38.],\n",
              "        [104., 118.],\n",
              "        [ 57.,  69.],\n",
              "        [ 82., 100.],\n",
              "        [118., 134.],\n",
              "        [ 20.,  38.],\n",
              "        [102., 120.]])"
            ]
          },
          "metadata": {},
          "execution_count": 78
        }
      ]
    },
    {
      "cell_type": "code",
      "source": [
        "model(torch.tensor([[75,66,44.]]))"
      ],
      "metadata": {
        "colab": {
          "base_uri": "https://localhost:8080/"
        },
        "id": "HK-j1JEJPcYZ",
        "outputId": "bc540228-6033-4a47-ffc9-91a1d06b4966"
      },
      "execution_count": 80,
      "outputs": [
        {
          "output_type": "execute_result",
          "data": {
            "text/plain": [
              "tensor([[56.1430, 70.1643]], grad_fn=<AddmmBackward0>)"
            ]
          },
          "metadata": {},
          "execution_count": 80
        }
      ]
    },
    {
      "cell_type": "code",
      "source": [
        ""
      ],
      "metadata": {
        "id": "QC2qDx6kPorT"
      },
      "execution_count": null,
      "outputs": []
    }
  ]
}