{
  "nbformat": 4,
  "nbformat_minor": 0,
  "metadata": {
    "colab": {
      "name": "Linear Regression Pytorch.ipynb",
      "provenance": [],
      "authorship_tag": "ABX9TyP0WR3uAjrcNRlZ86kynFPg",
      "include_colab_link": true
    },
    "kernelspec": {
      "name": "python3",
      "display_name": "Python 3"
    },
    "language_info": {
      "name": "python"
    },
    "accelerator": "GPU",
    "gpuClass": "standard"
  },
  "cells": [
    {
      "cell_type": "markdown",
      "metadata": {
        "id": "view-in-github",
        "colab_type": "text"
      },
      "source": [
        "<a href=\"https://colab.research.google.com/github/arnavjune2/pytorch/blob/main/Linear_Regression_Pytorch.ipynb\" target=\"_parent\"><img src=\"https://colab.research.google.com/assets/colab-badge.svg\" alt=\"Open In Colab\"/></a>"
      ]
    },
    {
      "cell_type": "code",
      "source": [
        "import numpy as np\n",
        "import torch"
      ],
      "metadata": {
        "id": "qi-6QSsZq55r"
      },
      "execution_count": 10,
      "outputs": []
    },
    {
      "cell_type": "code",
      "execution_count": 11,
      "metadata": {
        "id": "onRrSgdDMwA4"
      },
      "outputs": [],
      "source": [
        "#Input_data\n",
        "input = np.array([[32,55,77],\n",
        "                  [31,75,57],\n",
        "                  [52,55,77],\n",
        "                  [22,100,87],\n",
        "                  [62,80,77],\n",
        "                  \n",
        "                  ], dtype='float32')"
      ]
    },
    {
      "cell_type": "code",
      "source": [
        "#target(say we have two target)\n",
        "targets = np.array([[32,66],\n",
        "                    [52,76],\n",
        "                    [102,155],\n",
        "                    [32,26],\n",
        "                    [99,100],\n",
        "                    ], dtype='float32')"
      ],
      "metadata": {
        "id": "K01N7yKprBbK"
      },
      "execution_count": 12,
      "outputs": []
    },
    {
      "cell_type": "code",
      "source": [
        "targets"
      ],
      "metadata": {
        "colab": {
          "base_uri": "https://localhost:8080/"
        },
        "id": "I-rsaIf9rF8w",
        "outputId": "15e5fec0-4d79-4aa9-b7dd-d849342179b2"
      },
      "execution_count": 13,
      "outputs": [
        {
          "output_type": "execute_result",
          "data": {
            "text/plain": [
              "array([[ 32.,  66.],\n",
              "       [ 52.,  76.],\n",
              "       [102., 155.],\n",
              "       [ 32.,  26.],\n",
              "       [ 99., 100.]], dtype=float32)"
            ]
          },
          "metadata": {},
          "execution_count": 13
        }
      ]
    },
    {
      "cell_type": "code",
      "source": [
        "if torch.cuda.is_available():\n",
        "    device = torch.device(\"cuda:0\")\n",
        "    print(\"running on the GPU\")\n",
        "else:\n",
        "    device = torch.device(\"cpu\")\n",
        "    print(\"running on the CPU\")"
      ],
      "metadata": {
        "colab": {
          "base_uri": "https://localhost:8080/"
        },
        "id": "MNeSh7E8rNmI",
        "outputId": "c8ef3893-be96-48f8-e527-baf31ad50e73"
      },
      "execution_count": 14,
      "outputs": [
        {
          "output_type": "stream",
          "name": "stdout",
          "text": [
            "running on the GPU\n"
          ]
        }
      ]
    },
    {
      "cell_type": "code",
      "source": [
        "torch.cuda.is_available()"
      ],
      "metadata": {
        "colab": {
          "base_uri": "https://localhost:8080/"
        },
        "id": "wxoDxJaMrdAg",
        "outputId": "4b990101-110e-4271-e51d-2c97f2b03026"
      },
      "execution_count": 15,
      "outputs": [
        {
          "output_type": "execute_result",
          "data": {
            "text/plain": [
              "True"
            ]
          },
          "metadata": {},
          "execution_count": 15
        }
      ]
    },
    {
      "cell_type": "code",
      "source": [
        "#to run on gpu we have to convert it into tensors\n",
        "inputs = torch.from_numpy(input)\n",
        "targets = torch.from_numpy(targets)"
      ],
      "metadata": {
        "id": "-lRKaMwvrvlm"
      },
      "execution_count": 16,
      "outputs": []
    },
    {
      "cell_type": "code",
      "source": [
        "#initialise weights and biases\n",
        "w = torch.randn(2,3, requires_grad=True)      #two outputs and 3 inputs\n",
        "b = torch.randn(2, requires_grad=True) \n",
        "\n",
        "print(w)\n",
        "print(b)"
      ],
      "metadata": {
        "colab": {
          "base_uri": "https://localhost:8080/"
        },
        "id": "WvWckij-spM2",
        "outputId": "fc5dfd81-9d62-4848-8b02-00dfdcf4ed09"
      },
      "execution_count": 17,
      "outputs": [
        {
          "output_type": "stream",
          "name": "stdout",
          "text": [
            "tensor([[ 0.2287, -0.6534, -0.3719],\n",
            "        [ 0.4003,  0.4277,  1.0429]], requires_grad=True)\n",
            "tensor([ 1.0453, -0.6592], requires_grad=True)\n"
          ]
        }
      ]
    },
    {
      "cell_type": "code",
      "source": [
        "def model(x):\n",
        "  return x @ w.t() + b  #hypothesis  "
      ],
      "metadata": {
        "id": "pvYsqZ7XsqvW"
      },
      "execution_count": 18,
      "outputs": []
    },
    {
      "cell_type": "code",
      "source": [
        "preds = model(inputs)\n",
        "print(preds)"
      ],
      "metadata": {
        "colab": {
          "base_uri": "https://localhost:8080/"
        },
        "id": "EVz0pq7x1-Oc",
        "outputId": "bba6c77f-23bc-4e1b-e86e-cf3611ad0edd"
      },
      "execution_count": 19,
      "outputs": [
        {
          "output_type": "stream",
          "name": "stdout",
          "text": [
            "tensor([[-56.2122, 115.9802],\n",
            "        [-62.0704, 103.2750],\n",
            "        [-51.6386, 123.9856],\n",
            "        [-91.6213, 141.6536],\n",
            "        [-65.6868, 138.6809]], grad_fn=<AddBackward0>)\n"
          ]
        }
      ]
    },
    {
      "cell_type": "code",
      "source": [
        "#loss\n",
        "def MSE(preds, target):\n",
        "  diff = preds - targets\n",
        "  return torch.sum(diff * diff)/ diff.numel()\n"
      ],
      "metadata": {
        "id": "45fB-duc2I5x"
      },
      "execution_count": 21,
      "outputs": []
    },
    {
      "cell_type": "code",
      "source": [
        "#compute loss\n",
        "\n",
        "loss = MSE(preds, targets)\n",
        "print(loss)"
      ],
      "metadata": {
        "colab": {
          "base_uri": "https://localhost:8080/"
        },
        "id": "uCcrkGan2wbJ",
        "outputId": "88c9ad2b-2447-48cc-9870-c08d86499b20"
      },
      "execution_count": 23,
      "outputs": [
        {
          "output_type": "stream",
          "name": "stdout",
          "text": [
            "tensor(10587.8047, grad_fn=<DivBackward0>)\n"
          ]
        }
      ]
    },
    {
      "cell_type": "code",
      "source": [
        "#compute gradients\n",
        "\n",
        "loss.backward()"
      ],
      "metadata": {
        "id": "XBcmPnsZ2-P9"
      },
      "execution_count": 24,
      "outputs": []
    },
    {
      "cell_type": "code",
      "source": [
        "print(w)\n",
        "print(w.grad)"
      ],
      "metadata": {
        "colab": {
          "base_uri": "https://localhost:8080/"
        },
        "id": "6VGURlvi3UPH",
        "outputId": "ae33cc89-24c5-48af-8f80-e9e64c181dc2"
      },
      "execution_count": 25,
      "outputs": [
        {
          "output_type": "stream",
          "name": "stdout",
          "text": [
            "tensor([[ 0.2287, -0.6534, -0.3719],\n",
            "        [ 0.4003,  0.4277,  1.0429]], requires_grad=True)\n",
            "tensor([[-5455.6870, -9478.8311, -9712.0928],\n",
            "        [ 1154.9482,  3549.7161,  3211.0679]])\n"
          ]
        }
      ]
    },
    {
      "cell_type": "code",
      "source": [
        "with torch.no_grad():\n",
        "  n = 1e-5\n",
        "  w -= w.grad * n\n",
        "  b -= b.grad * n"
      ],
      "metadata": {
        "id": "u0_FL_PJ3XXV"
      },
      "execution_count": 26,
      "outputs": []
    },
    {
      "cell_type": "code",
      "source": [
        "print(w)"
      ],
      "metadata": {
        "colab": {
          "base_uri": "https://localhost:8080/"
        },
        "id": "JhP-_vHo7IFd",
        "outputId": "acae28a4-f3e8-4494-f1ee-319ac76304f1"
      },
      "execution_count": 28,
      "outputs": [
        {
          "output_type": "stream",
          "name": "stdout",
          "text": [
            "tensor([[ 0.2832, -0.5586, -0.2748],\n",
            "        [ 0.3887,  0.3922,  1.0108]], requires_grad=True)\n"
          ]
        }
      ]
    },
    {
      "cell_type": "code",
      "source": [
        "preds = model(inputs)\n",
        "print(f\"loss is {MSE(preds, targets)}\")"
      ],
      "metadata": {
        "colab": {
          "base_uri": "https://localhost:8080/"
        },
        "id": "oMw9Ziu17JNb",
        "outputId": "bf951594-11f7-4912-9491-68ab92837942"
      },
      "execution_count": 29,
      "outputs": [
        {
          "output_type": "stream",
          "name": "stdout",
          "text": [
            "loss is 8357.1015625\n"
          ]
        }
      ]
    },
    {
      "cell_type": "code",
      "source": [
        "#training\n",
        "epochs = 100\n",
        "n = 1e-5\n",
        "for i in range(epochs):\n",
        "  preds = model(inputs)\n",
        "  loss = MSE(preds, targets)\n",
        "  loss.backward()\n",
        "  with torch.no_grad():\n",
        "    w -= w.grad * n\n",
        "    b -= b.grad * n\n",
        "    w.grad.zero_()       #clearing the gradients\n",
        "    b.grad.zero_()       #clearing the gradients\n",
        "  print(f\"epoch: {i}, loss = {loss}\")"
      ],
      "metadata": {
        "colab": {
          "base_uri": "https://localhost:8080/"
        },
        "id": "qKGqNw0z__VV",
        "outputId": "54abba96-6c70-4fd8-b24e-b56465bafe8e"
      },
      "execution_count": 40,
      "outputs": [
        {
          "output_type": "stream",
          "name": "stdout",
          "text": [
            "epoch: 0, loss = 318.5791931152344\n",
            "epoch: 1, loss = 318.57916259765625\n",
            "epoch: 2, loss = 318.5791320800781\n",
            "epoch: 3, loss = 318.5791320800781\n",
            "epoch: 4, loss = 318.57916259765625\n",
            "epoch: 5, loss = 318.5791320800781\n",
            "epoch: 6, loss = 318.57904052734375\n",
            "epoch: 7, loss = 318.57904052734375\n",
            "epoch: 8, loss = 318.5790710449219\n",
            "epoch: 9, loss = 318.57891845703125\n",
            "epoch: 10, loss = 318.5789794921875\n",
            "epoch: 11, loss = 318.5789489746094\n",
            "epoch: 12, loss = 318.57891845703125\n",
            "epoch: 13, loss = 318.57891845703125\n",
            "epoch: 14, loss = 318.578857421875\n",
            "epoch: 15, loss = 318.57891845703125\n",
            "epoch: 16, loss = 318.5789489746094\n",
            "epoch: 17, loss = 318.5788269042969\n",
            "epoch: 18, loss = 318.57879638671875\n",
            "epoch: 19, loss = 318.57879638671875\n",
            "epoch: 20, loss = 318.5787658691406\n",
            "epoch: 21, loss = 318.5787658691406\n",
            "epoch: 22, loss = 318.5787353515625\n",
            "epoch: 23, loss = 318.5787658691406\n",
            "epoch: 24, loss = 318.57867431640625\n",
            "epoch: 25, loss = 318.5785827636719\n",
            "epoch: 26, loss = 318.5785827636719\n",
            "epoch: 27, loss = 318.5786437988281\n",
            "epoch: 28, loss = 318.57861328125\n",
            "epoch: 29, loss = 318.57861328125\n",
            "epoch: 30, loss = 318.5786437988281\n",
            "epoch: 31, loss = 318.5785827636719\n",
            "epoch: 32, loss = 318.5785217285156\n",
            "epoch: 33, loss = 318.57855224609375\n",
            "epoch: 34, loss = 318.5785217285156\n",
            "epoch: 35, loss = 318.5784912109375\n",
            "epoch: 36, loss = 318.57855224609375\n",
            "epoch: 37, loss = 318.57843017578125\n",
            "epoch: 38, loss = 318.57843017578125\n",
            "epoch: 39, loss = 318.5782165527344\n",
            "epoch: 40, loss = 318.5782470703125\n",
            "epoch: 41, loss = 318.5782165527344\n",
            "epoch: 42, loss = 318.57830810546875\n",
            "epoch: 43, loss = 318.5782470703125\n",
            "epoch: 44, loss = 318.5782775878906\n",
            "epoch: 45, loss = 318.57818603515625\n",
            "epoch: 46, loss = 318.57818603515625\n",
            "epoch: 47, loss = 318.57818603515625\n",
            "epoch: 48, loss = 318.57818603515625\n",
            "epoch: 49, loss = 318.5780944824219\n",
            "epoch: 50, loss = 318.5781555175781\n",
            "epoch: 51, loss = 318.578125\n",
            "epoch: 52, loss = 318.578125\n",
            "epoch: 53, loss = 318.5780334472656\n",
            "epoch: 54, loss = 318.5780334472656\n",
            "epoch: 55, loss = 318.57794189453125\n",
            "epoch: 56, loss = 318.57794189453125\n",
            "epoch: 57, loss = 318.5780029296875\n",
            "epoch: 58, loss = 318.57794189453125\n",
            "epoch: 59, loss = 318.5778503417969\n",
            "epoch: 60, loss = 318.5778503417969\n",
            "epoch: 61, loss = 318.57781982421875\n",
            "epoch: 62, loss = 318.5778503417969\n",
            "epoch: 63, loss = 318.57781982421875\n",
            "epoch: 64, loss = 318.57769775390625\n",
            "epoch: 65, loss = 318.5777282714844\n",
            "epoch: 66, loss = 318.57769775390625\n",
            "epoch: 67, loss = 318.57763671875\n",
            "epoch: 68, loss = 318.5776672363281\n",
            "epoch: 69, loss = 318.5776062011719\n",
            "epoch: 70, loss = 318.57757568359375\n",
            "epoch: 71, loss = 318.57757568359375\n",
            "epoch: 72, loss = 318.5776062011719\n",
            "epoch: 73, loss = 318.5775146484375\n",
            "epoch: 74, loss = 318.57757568359375\n",
            "epoch: 75, loss = 318.57757568359375\n",
            "epoch: 76, loss = 318.5775146484375\n",
            "epoch: 77, loss = 318.57745361328125\n",
            "epoch: 78, loss = 318.5775146484375\n",
            "epoch: 79, loss = 318.5774841308594\n",
            "epoch: 80, loss = 318.57745361328125\n",
            "epoch: 81, loss = 318.5774230957031\n",
            "epoch: 82, loss = 318.57733154296875\n",
            "epoch: 83, loss = 318.5774230957031\n",
            "epoch: 84, loss = 318.57733154296875\n",
            "epoch: 85, loss = 318.57720947265625\n",
            "epoch: 86, loss = 318.57720947265625\n",
            "epoch: 87, loss = 318.57720947265625\n",
            "epoch: 88, loss = 318.5770568847656\n",
            "epoch: 89, loss = 318.5770568847656\n",
            "epoch: 90, loss = 318.57708740234375\n",
            "epoch: 91, loss = 318.57708740234375\n",
            "epoch: 92, loss = 318.5771484375\n",
            "epoch: 93, loss = 318.5769958496094\n",
            "epoch: 94, loss = 318.5770568847656\n",
            "epoch: 95, loss = 318.5769958496094\n",
            "epoch: 96, loss = 318.5770568847656\n",
            "epoch: 97, loss = 318.57696533203125\n",
            "epoch: 98, loss = 318.5769958496094\n",
            "epoch: 99, loss = 318.57684326171875\n"
          ]
        }
      ]
    },
    {
      "cell_type": "code",
      "source": [
        "preds = model(inputs)\n",
        "preds"
      ],
      "metadata": {
        "colab": {
          "base_uri": "https://localhost:8080/"
        },
        "id": "5gbRUIiKA0ti",
        "outputId": "16835bb2-5b32-45cd-881f-421ff9a2b0d5"
      },
      "execution_count": 41,
      "outputs": [
        {
          "output_type": "execute_result",
          "data": {
            "text/plain": [
              "tensor([[ 46.0194,  80.9296],\n",
              "        [ 51.5580,  49.7411],\n",
              "        [ 85.6946, 125.4122],\n",
              "        [ 26.7783,  30.9768],\n",
              "        [107.5131, 128.4745]], grad_fn=<AddBackward0>)"
            ]
          },
          "metadata": {},
          "execution_count": 41
        }
      ]
    },
    {
      "cell_type": "code",
      "source": [
        "targets"
      ],
      "metadata": {
        "colab": {
          "base_uri": "https://localhost:8080/"
        },
        "id": "CU_kjI5WBjkI",
        "outputId": "462c54e3-f7ad-4458-f40b-ca59e2e76346"
      },
      "execution_count": 42,
      "outputs": [
        {
          "output_type": "execute_result",
          "data": {
            "text/plain": [
              "tensor([[ 32.,  66.],\n",
              "        [ 52.,  76.],\n",
              "        [102., 155.],\n",
              "        [ 32.,  26.],\n",
              "        [ 99., 100.]])"
            ]
          },
          "metadata": {},
          "execution_count": 42
        }
      ]
    },
    {
      "cell_type": "code",
      "source": [
        ""
      ],
      "metadata": {
        "id": "Qg9Uyc55Bk0i"
      },
      "execution_count": null,
      "outputs": []
    }
  ]
}