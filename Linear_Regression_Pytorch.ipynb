{
  "nbformat": 4,
  "nbformat_minor": 0,
  "metadata": {
    "colab": {
      "name": "Linear Regression Pytorch.ipynb",
      "provenance": [],
      "authorship_tag": "ABX9TyP3I78nS8bz2Z4rMzqedoCu",
      "include_colab_link": true
    },
    "kernelspec": {
      "name": "python3",
      "display_name": "Python 3"
    },
    "language_info": {
      "name": "python"
    },
    "accelerator": "GPU",
    "gpuClass": "standard"
  },
  "cells": [
    {
      "cell_type": "markdown",
      "metadata": {
        "id": "view-in-github",
        "colab_type": "text"
      },
      "source": [
        "<a href=\"https://colab.research.google.com/github/arnavjune2/pytorch/blob/main/Linear_Regression_Pytorch.ipynb\" target=\"_parent\"><img src=\"https://colab.research.google.com/assets/colab-badge.svg\" alt=\"Open In Colab\"/></a>"
      ]
    },
    {
      "cell_type": "code",
      "source": [
        "import numpy as np\n",
        "import torch"
      ],
      "metadata": {
        "id": "qi-6QSsZq55r"
      },
      "execution_count": 1,
      "outputs": []
    },
    {
      "cell_type": "code",
      "execution_count": 2,
      "metadata": {
        "id": "onRrSgdDMwA4"
      },
      "outputs": [],
      "source": [
        "#Input_data\n",
        "input = np.array([[32,55,77],\n",
        "                  [31,75,57],\n",
        "                  [52,55,77],\n",
        "                  [22,100,87],\n",
        "                  [62,80,77],\n",
        "                  \n",
        "                  ], dtype='float32')"
      ]
    },
    {
      "cell_type": "code",
      "source": [
        "#target(say we have two target)\n",
        "targets = np.array([[32,66],\n",
        "                    [52,76],\n",
        "                    [102,155],\n",
        "                    [32,26],\n",
        "                    [99,100],\n",
        "                    ], dtype='float32')"
      ],
      "metadata": {
        "id": "K01N7yKprBbK"
      },
      "execution_count": 3,
      "outputs": []
    },
    {
      "cell_type": "code",
      "source": [
        "targets"
      ],
      "metadata": {
        "colab": {
          "base_uri": "https://localhost:8080/"
        },
        "id": "I-rsaIf9rF8w",
        "outputId": "8797d2d0-d43d-4efd-a10d-9cde9ede160a"
      },
      "execution_count": 4,
      "outputs": [
        {
          "output_type": "execute_result",
          "data": {
            "text/plain": [
              "array([[ 32.,  66.],\n",
              "       [ 52.,  76.],\n",
              "       [102., 155.],\n",
              "       [ 32.,  26.],\n",
              "       [ 99., 100.]], dtype=float32)"
            ]
          },
          "metadata": {},
          "execution_count": 4
        }
      ]
    },
    {
      "cell_type": "code",
      "source": [
        "if torch.cuda.is_available():\n",
        "    device = torch.device(\"cuda:0\")\n",
        "    print(\"running on the GPU\")\n",
        "else:\n",
        "    device = torch.device(\"cpu\")\n",
        "    print(\"running on the CPU\")"
      ],
      "metadata": {
        "colab": {
          "base_uri": "https://localhost:8080/"
        },
        "id": "MNeSh7E8rNmI",
        "outputId": "896ccdb3-fa4e-41a5-c7a5-5ab3b5879807"
      },
      "execution_count": 5,
      "outputs": [
        {
          "output_type": "stream",
          "name": "stdout",
          "text": [
            "running on the GPU\n"
          ]
        }
      ]
    },
    {
      "cell_type": "code",
      "source": [
        "torch.cuda.is_available()"
      ],
      "metadata": {
        "colab": {
          "base_uri": "https://localhost:8080/"
        },
        "id": "wxoDxJaMrdAg",
        "outputId": "1446076b-90a2-4021-d318-86b50631285a"
      },
      "execution_count": 6,
      "outputs": [
        {
          "output_type": "execute_result",
          "data": {
            "text/plain": [
              "True"
            ]
          },
          "metadata": {},
          "execution_count": 6
        }
      ]
    },
    {
      "cell_type": "code",
      "source": [
        "#to run on gpu we have to convert it into tensors\n",
        "inputs = torch.from_numpy(input)\n",
        "targets = torch.from_numpy(targets)"
      ],
      "metadata": {
        "id": "-lRKaMwvrvlm"
      },
      "execution_count": 7,
      "outputs": []
    },
    {
      "cell_type": "code",
      "source": [
        "#initialise weights and biases\n",
        "w = torch.randn(2,3, requires_grad=True)      #two outputs and 3 inputs\n",
        "b = torch.randn(2, requires_grad=True) \n",
        "\n",
        "print(w)\n",
        "print(b)"
      ],
      "metadata": {
        "colab": {
          "base_uri": "https://localhost:8080/"
        },
        "id": "WvWckij-spM2",
        "outputId": "4e7b905c-199a-460c-b9ef-c5b33a98b33e"
      },
      "execution_count": 9,
      "outputs": [
        {
          "output_type": "stream",
          "name": "stdout",
          "text": [
            "tensor([[ 1.2936,  0.4793, -1.0385],\n",
            "        [-0.7294, -1.3223, -0.9279]], requires_grad=True)\n",
            "tensor([1.2551, 0.9517], requires_grad=True)\n"
          ]
        }
      ]
    },
    {
      "cell_type": "code",
      "source": [
        ""
      ],
      "metadata": {
        "id": "pvYsqZ7XsqvW"
      },
      "execution_count": null,
      "outputs": []
    }
  ]
}